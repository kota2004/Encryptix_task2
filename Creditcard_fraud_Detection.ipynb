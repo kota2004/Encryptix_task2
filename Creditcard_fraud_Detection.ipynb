{
  "nbformat": 4,
  "nbformat_minor": 0,
  "metadata": {
    "colab": {
      "provenance": []
    },
    "kernelspec": {
      "name": "python3",
      "display_name": "Python 3"
    },
    "language_info": {
      "name": "python"
    }
  },
  "cells": [
    {
      "cell_type": "code",
      "execution_count": 49,
      "metadata": {
        "id": "AJ-6JBX4qB9W"
      },
      "outputs": [],
      "source": [
        "# Importing the libraries\n",
        "import pandas as pd\n",
        "import numpy as np\n",
        "import matplotlib.pyplot as plt\n",
        "import seaborn as sns"
      ]
    },
    {
      "cell_type": "code",
      "source": [
        "# Loading tha data\n",
        "dataset = pd.read_csv('fraudTrain.csv')"
      ],
      "metadata": {
        "id": "kwtgtR02rzTC"
      },
      "execution_count": 50,
      "outputs": []
    },
    {
      "cell_type": "code",
      "source": [
        "print(dataset)"
      ],
      "metadata": {
        "colab": {
          "base_uri": "https://localhost:8080/"
        },
        "id": "nFYtdTbIrZRr",
        "outputId": "3ff4997f-749b-4246-eabe-be4cca7a4797"
      },
      "execution_count": 51,
      "outputs": [
        {
          "output_type": "stream",
          "name": "stdout",
          "text": [
            "        Unnamed: 0 trans_date_trans_time               cc_num  \\\n",
            "0                0   2019-01-01 00:00:18     2703186189652095   \n",
            "1                1   2019-01-01 00:00:44         630423337322   \n",
            "2                2   2019-01-01 00:00:51       38859492057661   \n",
            "3                3   2019-01-01 00:01:16     3534093764340240   \n",
            "4                4   2019-01-01 00:03:06      375534208663984   \n",
            "...            ...                   ...                  ...   \n",
            "674290      674290   2019-10-14 09:11:40      213193596103206   \n",
            "674291      674291   2019-10-14 09:11:42      213193596103206   \n",
            "674292      674292   2019-10-14 09:12:09  4792627764422477317   \n",
            "674293      674293   2019-10-14 09:15:24       30407675418785   \n",
            "674294      674294   2019-10-14 09:15:32       30235438713303   \n",
            "\n",
            "                                  merchant       category     amt      first  \\\n",
            "0               fraud_Rippin, Kub and Mann       misc_net    4.97   Jennifer   \n",
            "1          fraud_Heller, Gutmann and Zieme    grocery_pos  107.23  Stephanie   \n",
            "2                     fraud_Lind-Buckridge  entertainment  220.11     Edward   \n",
            "3       fraud_Kutch, Hermiston and Farrell  gas_transport   45.00     Jeremy   \n",
            "4                      fraud_Keeling-Crist       misc_pos   41.96      Tyler   \n",
            "...                                    ...            ...     ...        ...   \n",
            "674290                   fraud_Schmitt Ltd       misc_net   74.66      James   \n",
            "674291                 fraud_Dickinson Ltd       misc_pos   38.45      James   \n",
            "674292                      fraud_Cole PLC    grocery_pos  175.47   Margaret   \n",
            "674293  fraud_Osinski, Ledner and Leuschke    grocery_pos   92.39   Danielle   \n",
            "674294                  fraud_Bailey-Morar    grocery_pos   65.09      James   \n",
            "\n",
            "           last gender                        street  ...      lat      long  \\\n",
            "0         Banks      F                561 Perry Cove  ...  36.0788  -81.1781   \n",
            "1          Gill      F  43039 Riley Greens Suite 393  ...  48.8878 -118.2105   \n",
            "2       Sanchez      M      594 White Dale Suite 530  ...  42.1808 -112.2620   \n",
            "3         White      M   9443 Cynthia Court Apt. 038  ...  46.2306 -112.1138   \n",
            "4        Garcia      M              408 Bradley Rest  ...  38.4207  -79.4629   \n",
            "...         ...    ...                           ...  ...      ...       ...   \n",
            "674290     Hunt      M           7369 Gabriel Tunnel  ...  45.7549  -84.4470   \n",
            "674291     Hunt      M           7369 Gabriel Tunnel  ...  45.7549  -84.4470   \n",
            "674292   Mendez      F               7952 Karen Pike  ...  38.9462  -94.9714   \n",
            "674293    Evans      F    76752 David Lodge Apt. 064  ...  42.1939  -76.7361   \n",
            "674294  Baldwin      M                  3603 Mitchel  ...      NaN       NaN   \n",
            "\n",
            "        city_pop                                job         dob  \\\n",
            "0         3495.0          Psychologist, counselling  1988-03-09   \n",
            "1          149.0  Special educational needs teacher  1978-06-21   \n",
            "2         4154.0        Nature conservation officer  1962-01-19   \n",
            "3         1939.0                    Patent attorney  1967-01-12   \n",
            "4           99.0     Dance movement psychotherapist  1986-03-28   \n",
            "...          ...                                ...         ...   \n",
            "674290      95.0                Electrical engineer  1994-02-09   \n",
            "674291      95.0                Electrical engineer  1994-02-09   \n",
            "674292    5760.0            Chief Executive Officer  1978-10-01   \n",
            "674293     520.0                    Psychotherapist  1991-10-13   \n",
            "674294       NaN                                NaN         NaN   \n",
            "\n",
            "                               trans_num     unix_time  merch_lat  merch_long  \\\n",
            "0       0b242abb623afc578575680df30655b9  1.325376e+09  36.011293  -82.048315   \n",
            "1       1f76529f8574734946361c461b024d99  1.325376e+09  49.159047 -118.186462   \n",
            "2       a1a22d70485983eac12b5b88dad1cf95  1.325376e+09  43.150704 -112.154481   \n",
            "3       6b849c168bdad6f867558c3793159a81  1.325376e+09  47.034331 -112.561071   \n",
            "4       a41d7549acf90789359a9aa5346dcb46  1.325376e+09  38.674999  -78.632459   \n",
            "...                                  ...           ...        ...         ...   \n",
            "674290  f9491feb5d8dda5076eefc10c4083d1c  1.350206e+09  46.586242  -85.329561   \n",
            "674291  b0ec8fade6bfec4e99f5716d8c2d9a29  1.350206e+09  44.782462  -84.927398   \n",
            "674292  d5499431b641c3a949275779749ab863  1.350206e+09  39.647064  -94.372589   \n",
            "674293  98d18580a490f2239ed5922baa47b8bb  1.350206e+09  41.292140  -76.802635   \n",
            "674294                               NaN           NaN        NaN         NaN   \n",
            "\n",
            "        is_fraud  \n",
            "0            0.0  \n",
            "1            0.0  \n",
            "2            0.0  \n",
            "3            0.0  \n",
            "4            0.0  \n",
            "...          ...  \n",
            "674290       0.0  \n",
            "674291       0.0  \n",
            "674292       0.0  \n",
            "674293       0.0  \n",
            "674294       NaN  \n",
            "\n",
            "[674295 rows x 23 columns]\n"
          ]
        }
      ]
    },
    {
      "cell_type": "code",
      "source": [
        "# Data Analysis\n",
        "dataset.info() # this will be useful when there is null in some datasets to fill those null values"
      ],
      "metadata": {
        "colab": {
          "base_uri": "https://localhost:8080/"
        },
        "id": "44yAoGbRuue7",
        "outputId": "1e5d9b66-6d58-40f4-f813-1ff0c76aadd7"
      },
      "execution_count": 52,
      "outputs": [
        {
          "output_type": "stream",
          "name": "stdout",
          "text": [
            "<class 'pandas.core.frame.DataFrame'>\n",
            "RangeIndex: 674295 entries, 0 to 674294\n",
            "Data columns (total 23 columns):\n",
            " #   Column                 Non-Null Count   Dtype  \n",
            "---  ------                 --------------   -----  \n",
            " 0   Unnamed: 0             674295 non-null  int64  \n",
            " 1   trans_date_trans_time  674295 non-null  object \n",
            " 2   cc_num                 674295 non-null  int64  \n",
            " 3   merchant               674295 non-null  object \n",
            " 4   category               674295 non-null  object \n",
            " 5   amt                    674295 non-null  float64\n",
            " 6   first                  674295 non-null  object \n",
            " 7   last                   674295 non-null  object \n",
            " 8   gender                 674295 non-null  object \n",
            " 9   street                 674295 non-null  object \n",
            " 10  city                   674294 non-null  object \n",
            " 11  state                  674294 non-null  object \n",
            " 12  zip                    674294 non-null  float64\n",
            " 13  lat                    674294 non-null  float64\n",
            " 14  long                   674294 non-null  float64\n",
            " 15  city_pop               674294 non-null  float64\n",
            " 16  job                    674294 non-null  object \n",
            " 17  dob                    674294 non-null  object \n",
            " 18  trans_num              674294 non-null  object \n",
            " 19  unix_time              674294 non-null  float64\n",
            " 20  merch_lat              674294 non-null  float64\n",
            " 21  merch_long             674294 non-null  float64\n",
            " 22  is_fraud               674294 non-null  float64\n",
            "dtypes: float64(9), int64(2), object(12)\n",
            "memory usage: 118.3+ MB\n"
          ]
        }
      ]
    },
    {
      "cell_type": "code",
      "source": [
        "# This is useful to check the value is null or not if nulll then 1, else 0\n",
        "dataset.isnull().sum()"
      ],
      "metadata": {
        "colab": {
          "base_uri": "https://localhost:8080/"
        },
        "id": "EpKef36Ip2Px",
        "outputId": "e92ad70f-ea79-4258-93c8-b2da41f9e4f2"
      },
      "execution_count": 53,
      "outputs": [
        {
          "output_type": "execute_result",
          "data": {
            "text/plain": [
              "Unnamed: 0               0\n",
              "trans_date_trans_time    0\n",
              "cc_num                   0\n",
              "merchant                 0\n",
              "category                 0\n",
              "amt                      0\n",
              "first                    0\n",
              "last                     0\n",
              "gender                   0\n",
              "street                   0\n",
              "city                     1\n",
              "state                    1\n",
              "zip                      1\n",
              "lat                      1\n",
              "long                     1\n",
              "city_pop                 1\n",
              "job                      1\n",
              "dob                      1\n",
              "trans_num                1\n",
              "unix_time                1\n",
              "merch_lat                1\n",
              "merch_long               1\n",
              "is_fraud                 1\n",
              "dtype: int64"
            ]
          },
          "metadata": {},
          "execution_count": 53
        }
      ]
    },
    {
      "cell_type": "code",
      "source": [
        "# as you can see that last entry has some empty cells for some attributes so let's delete that from our datset\n",
        "# this drops the rows from the datset where some rows have NaN in the columns\n",
        "dataset = dataset.dropna()"
      ],
      "metadata": {
        "id": "18R7fC3zqlX3"
      },
      "execution_count": 54,
      "outputs": []
    },
    {
      "cell_type": "code",
      "source": [
        "dataset.isnull().sum() # now data doesn't have any missing value or NaN"
      ],
      "metadata": {
        "colab": {
          "base_uri": "https://localhost:8080/"
        },
        "id": "1ZZcy4SnrOfa",
        "outputId": "f56d1af2-abb2-49ce-cd43-a54e2ce3cfba"
      },
      "execution_count": 55,
      "outputs": [
        {
          "output_type": "execute_result",
          "data": {
            "text/plain": [
              "Unnamed: 0               0\n",
              "trans_date_trans_time    0\n",
              "cc_num                   0\n",
              "merchant                 0\n",
              "category                 0\n",
              "amt                      0\n",
              "first                    0\n",
              "last                     0\n",
              "gender                   0\n",
              "street                   0\n",
              "city                     0\n",
              "state                    0\n",
              "zip                      0\n",
              "lat                      0\n",
              "long                     0\n",
              "city_pop                 0\n",
              "job                      0\n",
              "dob                      0\n",
              "trans_num                0\n",
              "unix_time                0\n",
              "merch_lat                0\n",
              "merch_long               0\n",
              "is_fraud                 0\n",
              "dtype: int64"
            ]
          },
          "metadata": {},
          "execution_count": 55
        }
      ]
    },
    {
      "cell_type": "code",
      "source": [
        "dataset.describe()"
      ],
      "metadata": {
        "colab": {
          "base_uri": "https://localhost:8080/",
          "height": 300
        },
        "id": "C6u2UYZb0U-2",
        "outputId": "0cdb13d8-70df-4aca-935b-c09ee04ccf8c"
      },
      "execution_count": 56,
      "outputs": [
        {
          "output_type": "execute_result",
          "data": {
            "text/plain": [
              "          Unnamed: 0        cc_num            amt            zip  \\\n",
              "count  674294.000000  6.742940e+05  674294.000000  674294.000000   \n",
              "mean   337146.500000  4.167751e+17      70.245965   48779.950099   \n",
              "std    194652.055544  1.308372e+18     159.159001   26907.223883   \n",
              "min         0.000000  6.041621e+10       1.000000    1257.000000   \n",
              "25%    168573.250000  1.800365e+14       9.640000   26041.000000   \n",
              "50%    337146.500000  3.520550e+15      47.400000   48174.000000   \n",
              "75%    505719.750000  4.642255e+15      83.030000   72011.000000   \n",
              "max    674293.000000  4.992346e+18   26544.120000   99783.000000   \n",
              "\n",
              "                 lat           long      city_pop     unix_time  \\\n",
              "count  674294.000000  674294.000000  6.742940e+05  6.742940e+05   \n",
              "mean       38.536600     -90.217772  8.904094e+04  1.338664e+09   \n",
              "std         5.073756      13.765522  3.027065e+05  6.802747e+06   \n",
              "min        20.027100    -165.672300  2.300000e+01  1.325376e+09   \n",
              "25%        34.668900     -96.798000  7.430000e+02  1.333110e+09   \n",
              "50%        39.354300     -87.461600  2.456000e+03  1.339204e+09   \n",
              "75%        41.894800     -80.138100  2.047800e+04  1.344357e+09   \n",
              "max        66.693300     -67.950300  2.906700e+06  1.350206e+09   \n",
              "\n",
              "           merch_lat     merch_long       is_fraud  \n",
              "count  674294.000000  674294.000000  674294.000000  \n",
              "mean       38.536403     -90.218235       0.005938  \n",
              "std         5.107958      13.777371       0.076830  \n",
              "min        19.029798    -166.671242       0.000000  \n",
              "25%        34.741722     -96.886006       0.000000  \n",
              "50%        39.367217     -87.426757       0.000000  \n",
              "75%        41.954072     -80.216909       0.000000  \n",
              "max        67.510267     -66.956540       1.000000  "
            ],
            "text/html": [
              "\n",
              "  <div id=\"df-426a3389-0691-4d23-9ba8-f28f4682ce83\" class=\"colab-df-container\">\n",
              "    <div>\n",
              "<style scoped>\n",
              "    .dataframe tbody tr th:only-of-type {\n",
              "        vertical-align: middle;\n",
              "    }\n",
              "\n",
              "    .dataframe tbody tr th {\n",
              "        vertical-align: top;\n",
              "    }\n",
              "\n",
              "    .dataframe thead th {\n",
              "        text-align: right;\n",
              "    }\n",
              "</style>\n",
              "<table border=\"1\" class=\"dataframe\">\n",
              "  <thead>\n",
              "    <tr style=\"text-align: right;\">\n",
              "      <th></th>\n",
              "      <th>Unnamed: 0</th>\n",
              "      <th>cc_num</th>\n",
              "      <th>amt</th>\n",
              "      <th>zip</th>\n",
              "      <th>lat</th>\n",
              "      <th>long</th>\n",
              "      <th>city_pop</th>\n",
              "      <th>unix_time</th>\n",
              "      <th>merch_lat</th>\n",
              "      <th>merch_long</th>\n",
              "      <th>is_fraud</th>\n",
              "    </tr>\n",
              "  </thead>\n",
              "  <tbody>\n",
              "    <tr>\n",
              "      <th>count</th>\n",
              "      <td>674294.000000</td>\n",
              "      <td>6.742940e+05</td>\n",
              "      <td>674294.000000</td>\n",
              "      <td>674294.000000</td>\n",
              "      <td>674294.000000</td>\n",
              "      <td>674294.000000</td>\n",
              "      <td>6.742940e+05</td>\n",
              "      <td>6.742940e+05</td>\n",
              "      <td>674294.000000</td>\n",
              "      <td>674294.000000</td>\n",
              "      <td>674294.000000</td>\n",
              "    </tr>\n",
              "    <tr>\n",
              "      <th>mean</th>\n",
              "      <td>337146.500000</td>\n",
              "      <td>4.167751e+17</td>\n",
              "      <td>70.245965</td>\n",
              "      <td>48779.950099</td>\n",
              "      <td>38.536600</td>\n",
              "      <td>-90.217772</td>\n",
              "      <td>8.904094e+04</td>\n",
              "      <td>1.338664e+09</td>\n",
              "      <td>38.536403</td>\n",
              "      <td>-90.218235</td>\n",
              "      <td>0.005938</td>\n",
              "    </tr>\n",
              "    <tr>\n",
              "      <th>std</th>\n",
              "      <td>194652.055544</td>\n",
              "      <td>1.308372e+18</td>\n",
              "      <td>159.159001</td>\n",
              "      <td>26907.223883</td>\n",
              "      <td>5.073756</td>\n",
              "      <td>13.765522</td>\n",
              "      <td>3.027065e+05</td>\n",
              "      <td>6.802747e+06</td>\n",
              "      <td>5.107958</td>\n",
              "      <td>13.777371</td>\n",
              "      <td>0.076830</td>\n",
              "    </tr>\n",
              "    <tr>\n",
              "      <th>min</th>\n",
              "      <td>0.000000</td>\n",
              "      <td>6.041621e+10</td>\n",
              "      <td>1.000000</td>\n",
              "      <td>1257.000000</td>\n",
              "      <td>20.027100</td>\n",
              "      <td>-165.672300</td>\n",
              "      <td>2.300000e+01</td>\n",
              "      <td>1.325376e+09</td>\n",
              "      <td>19.029798</td>\n",
              "      <td>-166.671242</td>\n",
              "      <td>0.000000</td>\n",
              "    </tr>\n",
              "    <tr>\n",
              "      <th>25%</th>\n",
              "      <td>168573.250000</td>\n",
              "      <td>1.800365e+14</td>\n",
              "      <td>9.640000</td>\n",
              "      <td>26041.000000</td>\n",
              "      <td>34.668900</td>\n",
              "      <td>-96.798000</td>\n",
              "      <td>7.430000e+02</td>\n",
              "      <td>1.333110e+09</td>\n",
              "      <td>34.741722</td>\n",
              "      <td>-96.886006</td>\n",
              "      <td>0.000000</td>\n",
              "    </tr>\n",
              "    <tr>\n",
              "      <th>50%</th>\n",
              "      <td>337146.500000</td>\n",
              "      <td>3.520550e+15</td>\n",
              "      <td>47.400000</td>\n",
              "      <td>48174.000000</td>\n",
              "      <td>39.354300</td>\n",
              "      <td>-87.461600</td>\n",
              "      <td>2.456000e+03</td>\n",
              "      <td>1.339204e+09</td>\n",
              "      <td>39.367217</td>\n",
              "      <td>-87.426757</td>\n",
              "      <td>0.000000</td>\n",
              "    </tr>\n",
              "    <tr>\n",
              "      <th>75%</th>\n",
              "      <td>505719.750000</td>\n",
              "      <td>4.642255e+15</td>\n",
              "      <td>83.030000</td>\n",
              "      <td>72011.000000</td>\n",
              "      <td>41.894800</td>\n",
              "      <td>-80.138100</td>\n",
              "      <td>2.047800e+04</td>\n",
              "      <td>1.344357e+09</td>\n",
              "      <td>41.954072</td>\n",
              "      <td>-80.216909</td>\n",
              "      <td>0.000000</td>\n",
              "    </tr>\n",
              "    <tr>\n",
              "      <th>max</th>\n",
              "      <td>674293.000000</td>\n",
              "      <td>4.992346e+18</td>\n",
              "      <td>26544.120000</td>\n",
              "      <td>99783.000000</td>\n",
              "      <td>66.693300</td>\n",
              "      <td>-67.950300</td>\n",
              "      <td>2.906700e+06</td>\n",
              "      <td>1.350206e+09</td>\n",
              "      <td>67.510267</td>\n",
              "      <td>-66.956540</td>\n",
              "      <td>1.000000</td>\n",
              "    </tr>\n",
              "  </tbody>\n",
              "</table>\n",
              "</div>\n",
              "    <div class=\"colab-df-buttons\">\n",
              "\n",
              "  <div class=\"colab-df-container\">\n",
              "    <button class=\"colab-df-convert\" onclick=\"convertToInteractive('df-426a3389-0691-4d23-9ba8-f28f4682ce83')\"\n",
              "            title=\"Convert this dataframe to an interactive table.\"\n",
              "            style=\"display:none;\">\n",
              "\n",
              "  <svg xmlns=\"http://www.w3.org/2000/svg\" height=\"24px\" viewBox=\"0 -960 960 960\">\n",
              "    <path d=\"M120-120v-720h720v720H120Zm60-500h600v-160H180v160Zm220 220h160v-160H400v160Zm0 220h160v-160H400v160ZM180-400h160v-160H180v160Zm440 0h160v-160H620v160ZM180-180h160v-160H180v160Zm440 0h160v-160H620v160Z\"/>\n",
              "  </svg>\n",
              "    </button>\n",
              "\n",
              "  <style>\n",
              "    .colab-df-container {\n",
              "      display:flex;\n",
              "      gap: 12px;\n",
              "    }\n",
              "\n",
              "    .colab-df-convert {\n",
              "      background-color: #E8F0FE;\n",
              "      border: none;\n",
              "      border-radius: 50%;\n",
              "      cursor: pointer;\n",
              "      display: none;\n",
              "      fill: #1967D2;\n",
              "      height: 32px;\n",
              "      padding: 0 0 0 0;\n",
              "      width: 32px;\n",
              "    }\n",
              "\n",
              "    .colab-df-convert:hover {\n",
              "      background-color: #E2EBFA;\n",
              "      box-shadow: 0px 1px 2px rgba(60, 64, 67, 0.3), 0px 1px 3px 1px rgba(60, 64, 67, 0.15);\n",
              "      fill: #174EA6;\n",
              "    }\n",
              "\n",
              "    .colab-df-buttons div {\n",
              "      margin-bottom: 4px;\n",
              "    }\n",
              "\n",
              "    [theme=dark] .colab-df-convert {\n",
              "      background-color: #3B4455;\n",
              "      fill: #D2E3FC;\n",
              "    }\n",
              "\n",
              "    [theme=dark] .colab-df-convert:hover {\n",
              "      background-color: #434B5C;\n",
              "      box-shadow: 0px 1px 3px 1px rgba(0, 0, 0, 0.15);\n",
              "      filter: drop-shadow(0px 1px 2px rgba(0, 0, 0, 0.3));\n",
              "      fill: #FFFFFF;\n",
              "    }\n",
              "  </style>\n",
              "\n",
              "    <script>\n",
              "      const buttonEl =\n",
              "        document.querySelector('#df-426a3389-0691-4d23-9ba8-f28f4682ce83 button.colab-df-convert');\n",
              "      buttonEl.style.display =\n",
              "        google.colab.kernel.accessAllowed ? 'block' : 'none';\n",
              "\n",
              "      async function convertToInteractive(key) {\n",
              "        const element = document.querySelector('#df-426a3389-0691-4d23-9ba8-f28f4682ce83');\n",
              "        const dataTable =\n",
              "          await google.colab.kernel.invokeFunction('convertToInteractive',\n",
              "                                                    [key], {});\n",
              "        if (!dataTable) return;\n",
              "\n",
              "        const docLinkHtml = 'Like what you see? Visit the ' +\n",
              "          '<a target=\"_blank\" href=https://colab.research.google.com/notebooks/data_table.ipynb>data table notebook</a>'\n",
              "          + ' to learn more about interactive tables.';\n",
              "        element.innerHTML = '';\n",
              "        dataTable['output_type'] = 'display_data';\n",
              "        await google.colab.output.renderOutput(dataTable, element);\n",
              "        const docLink = document.createElement('div');\n",
              "        docLink.innerHTML = docLinkHtml;\n",
              "        element.appendChild(docLink);\n",
              "      }\n",
              "    </script>\n",
              "  </div>\n",
              "\n",
              "\n",
              "<div id=\"df-862ddaf4-5302-4077-b39c-679825090048\">\n",
              "  <button class=\"colab-df-quickchart\" onclick=\"quickchart('df-862ddaf4-5302-4077-b39c-679825090048')\"\n",
              "            title=\"Suggest charts\"\n",
              "            style=\"display:none;\">\n",
              "\n",
              "<svg xmlns=\"http://www.w3.org/2000/svg\" height=\"24px\"viewBox=\"0 0 24 24\"\n",
              "     width=\"24px\">\n",
              "    <g>\n",
              "        <path d=\"M19 3H5c-1.1 0-2 .9-2 2v14c0 1.1.9 2 2 2h14c1.1 0 2-.9 2-2V5c0-1.1-.9-2-2-2zM9 17H7v-7h2v7zm4 0h-2V7h2v10zm4 0h-2v-4h2v4z\"/>\n",
              "    </g>\n",
              "</svg>\n",
              "  </button>\n",
              "\n",
              "<style>\n",
              "  .colab-df-quickchart {\n",
              "      --bg-color: #E8F0FE;\n",
              "      --fill-color: #1967D2;\n",
              "      --hover-bg-color: #E2EBFA;\n",
              "      --hover-fill-color: #174EA6;\n",
              "      --disabled-fill-color: #AAA;\n",
              "      --disabled-bg-color: #DDD;\n",
              "  }\n",
              "\n",
              "  [theme=dark] .colab-df-quickchart {\n",
              "      --bg-color: #3B4455;\n",
              "      --fill-color: #D2E3FC;\n",
              "      --hover-bg-color: #434B5C;\n",
              "      --hover-fill-color: #FFFFFF;\n",
              "      --disabled-bg-color: #3B4455;\n",
              "      --disabled-fill-color: #666;\n",
              "  }\n",
              "\n",
              "  .colab-df-quickchart {\n",
              "    background-color: var(--bg-color);\n",
              "    border: none;\n",
              "    border-radius: 50%;\n",
              "    cursor: pointer;\n",
              "    display: none;\n",
              "    fill: var(--fill-color);\n",
              "    height: 32px;\n",
              "    padding: 0;\n",
              "    width: 32px;\n",
              "  }\n",
              "\n",
              "  .colab-df-quickchart:hover {\n",
              "    background-color: var(--hover-bg-color);\n",
              "    box-shadow: 0 1px 2px rgba(60, 64, 67, 0.3), 0 1px 3px 1px rgba(60, 64, 67, 0.15);\n",
              "    fill: var(--button-hover-fill-color);\n",
              "  }\n",
              "\n",
              "  .colab-df-quickchart-complete:disabled,\n",
              "  .colab-df-quickchart-complete:disabled:hover {\n",
              "    background-color: var(--disabled-bg-color);\n",
              "    fill: var(--disabled-fill-color);\n",
              "    box-shadow: none;\n",
              "  }\n",
              "\n",
              "  .colab-df-spinner {\n",
              "    border: 2px solid var(--fill-color);\n",
              "    border-color: transparent;\n",
              "    border-bottom-color: var(--fill-color);\n",
              "    animation:\n",
              "      spin 1s steps(1) infinite;\n",
              "  }\n",
              "\n",
              "  @keyframes spin {\n",
              "    0% {\n",
              "      border-color: transparent;\n",
              "      border-bottom-color: var(--fill-color);\n",
              "      border-left-color: var(--fill-color);\n",
              "    }\n",
              "    20% {\n",
              "      border-color: transparent;\n",
              "      border-left-color: var(--fill-color);\n",
              "      border-top-color: var(--fill-color);\n",
              "    }\n",
              "    30% {\n",
              "      border-color: transparent;\n",
              "      border-left-color: var(--fill-color);\n",
              "      border-top-color: var(--fill-color);\n",
              "      border-right-color: var(--fill-color);\n",
              "    }\n",
              "    40% {\n",
              "      border-color: transparent;\n",
              "      border-right-color: var(--fill-color);\n",
              "      border-top-color: var(--fill-color);\n",
              "    }\n",
              "    60% {\n",
              "      border-color: transparent;\n",
              "      border-right-color: var(--fill-color);\n",
              "    }\n",
              "    80% {\n",
              "      border-color: transparent;\n",
              "      border-right-color: var(--fill-color);\n",
              "      border-bottom-color: var(--fill-color);\n",
              "    }\n",
              "    90% {\n",
              "      border-color: transparent;\n",
              "      border-bottom-color: var(--fill-color);\n",
              "    }\n",
              "  }\n",
              "</style>\n",
              "\n",
              "  <script>\n",
              "    async function quickchart(key) {\n",
              "      const quickchartButtonEl =\n",
              "        document.querySelector('#' + key + ' button');\n",
              "      quickchartButtonEl.disabled = true;  // To prevent multiple clicks.\n",
              "      quickchartButtonEl.classList.add('colab-df-spinner');\n",
              "      try {\n",
              "        const charts = await google.colab.kernel.invokeFunction(\n",
              "            'suggestCharts', [key], {});\n",
              "      } catch (error) {\n",
              "        console.error('Error during call to suggestCharts:', error);\n",
              "      }\n",
              "      quickchartButtonEl.classList.remove('colab-df-spinner');\n",
              "      quickchartButtonEl.classList.add('colab-df-quickchart-complete');\n",
              "    }\n",
              "    (() => {\n",
              "      let quickchartButtonEl =\n",
              "        document.querySelector('#df-862ddaf4-5302-4077-b39c-679825090048 button');\n",
              "      quickchartButtonEl.style.display =\n",
              "        google.colab.kernel.accessAllowed ? 'block' : 'none';\n",
              "    })();\n",
              "  </script>\n",
              "</div>\n",
              "\n",
              "    </div>\n",
              "  </div>\n"
            ],
            "application/vnd.google.colaboratory.intrinsic+json": {
              "type": "dataframe",
              "summary": "{\n  \"name\": \"dataset\",\n  \"rows\": 8,\n  \"fields\": [\n    {\n      \"column\": \"Unnamed: 0\",\n      \"properties\": {\n        \"dtype\": \"number\",\n        \"std\": 243018.6010248792,\n        \"min\": 0.0,\n        \"max\": 674294.0,\n        \"num_unique_values\": 7,\n        \"samples\": [\n          674294.0,\n          337146.5,\n          505719.75\n        ],\n        \"semantic_type\": \"\",\n        \"description\": \"\"\n      }\n    },\n    {\n      \"column\": \"cc_num\",\n      \"properties\": {\n        \"dtype\": \"number\",\n        \"std\": 1.7384100408256899e+18,\n        \"min\": 674294.0,\n        \"max\": 4.992346398065154e+18,\n        \"num_unique_values\": 8,\n        \"samples\": [\n          4.1677507071855296e+17,\n          3520550088202337.0,\n          674294.0\n        ],\n        \"semantic_type\": \"\",\n        \"description\": \"\"\n      }\n    },\n    {\n      \"column\": \"amt\",\n      \"properties\": {\n        \"dtype\": \"number\",\n        \"std\": 237220.61508121438,\n        \"min\": 1.0,\n        \"max\": 674294.0,\n        \"num_unique_values\": 8,\n        \"samples\": [\n          70.24596497966763,\n          47.4,\n          674294.0\n        ],\n        \"semantic_type\": \"\",\n        \"description\": \"\"\n      }\n    },\n    {\n      \"column\": \"zip\",\n      \"properties\": {\n        \"dtype\": \"number\",\n        \"std\": 224119.17082814756,\n        \"min\": 1257.0,\n        \"max\": 674294.0,\n        \"num_unique_values\": 8,\n        \"samples\": [\n          48779.95009891828,\n          48174.0,\n          674294.0\n        ],\n        \"semantic_type\": \"\",\n        \"description\": \"\"\n      }\n    },\n    {\n      \"column\": \"lat\",\n      \"properties\": {\n        \"dtype\": \"number\",\n        \"std\": 238386.49317647875,\n        \"min\": 5.0737556380298,\n        \"max\": 674294.0,\n        \"num_unique_values\": 8,\n        \"samples\": [\n          38.53659994750064,\n          39.3543,\n          674294.0\n        ],\n        \"semantic_type\": \"\",\n        \"description\": \"\"\n      }\n    },\n    {\n      \"column\": \"long\",\n      \"properties\": {\n        \"dtype\": \"number\",\n        \"std\": 238427.95020190702,\n        \"min\": -165.6723,\n        \"max\": 674294.0,\n        \"num_unique_values\": 8,\n        \"samples\": [\n          -90.2177722288794,\n          -87.4616,\n          674294.0\n        ],\n        \"semantic_type\": \"\",\n        \"description\": \"\"\n      }\n    },\n    {\n      \"column\": \"city_pop\",\n      \"properties\": {\n        \"dtype\": \"number\",\n        \"std\": 1000508.4224161075,\n        \"min\": 23.0,\n        \"max\": 2906700.0,\n        \"num_unique_values\": 8,\n        \"samples\": [\n          89040.93715056044,\n          2456.0,\n          674294.0\n        ],\n        \"semantic_type\": \"\",\n        \"description\": \"\"\n      }\n    },\n    {\n      \"column\": \"unix_time\",\n      \"properties\": {\n        \"dtype\": \"number\",\n        \"std\": 617913416.8263662,\n        \"min\": 674294.0,\n        \"max\": 1350206124.0,\n        \"num_unique_values\": 8,\n        \"samples\": [\n          1338663676.4041886,\n          1339204007.5,\n          674294.0\n        ],\n        \"semantic_type\": \"\",\n        \"description\": \"\"\n      }\n    },\n    {\n      \"column\": \"merch_lat\",\n      \"properties\": {\n        \"dtype\": \"number\",\n        \"std\": 238386.49326769376,\n        \"min\": 5.107958352899198,\n        \"max\": 674294.0,\n        \"num_unique_values\": 8,\n        \"samples\": [\n          38.53640314982782,\n          39.367217000000004,\n          674294.0\n        ],\n        \"semantic_type\": \"\",\n        \"description\": \"\"\n      }\n    },\n    {\n      \"column\": \"merch_long\",\n      \"properties\": {\n        \"dtype\": \"number\",\n        \"std\": 238427.9566144239,\n        \"min\": -166.671242,\n        \"max\": 674294.0,\n        \"num_unique_values\": 8,\n        \"samples\": [\n          -90.21823517352072,\n          -87.42675700000001,\n          674294.0\n        ],\n        \"semantic_type\": \"\",\n        \"description\": \"\"\n      }\n    },\n    {\n      \"column\": \"is_fraud\",\n      \"properties\": {\n        \"dtype\": \"number\",\n        \"std\": 238398.875268919,\n        \"min\": 0.0,\n        \"max\": 674294.0,\n        \"num_unique_values\": 5,\n        \"samples\": [\n          0.005938062625501636,\n          1.0,\n          0.07682975199633428\n        ],\n        \"semantic_type\": \"\",\n        \"description\": \"\"\n      }\n    }\n  ]\n}"
            }
          },
          "metadata": {},
          "execution_count": 56
        }
      ]
    },
    {
      "cell_type": "code",
      "source": [
        "# heatmap only for those attributes whose values are numerical\n",
        "corr_matrix=dataset[['cc_num','amt','zip','lat','long','city_pop','unix_time','merch_lat','merch_long','is_fraud']].corr()\n",
        "plt.figure(figsize=(10,8))\n",
        "sns.heatmap(corr_matrix,annot=True,fmt='.3f',cmap='YlGnBu')\n",
        "plt.title(\"Correlation Heatmap\")\n",
        "plt.show()"
      ],
      "metadata": {
        "colab": {
          "base_uri": "https://localhost:8080/",
          "height": 765
        },
        "id": "rc6kiG1wvVK5",
        "outputId": "f357fe59-d02d-458d-e56e-360707e1670e"
      },
      "execution_count": 57,
      "outputs": [
        {
          "output_type": "display_data",
          "data": {
            "text/plain": [
              "<Figure size 1000x800 with 2 Axes>"
            ],
            "image/png": "[encoded data removed]"
          },
          "metadata": {}
        }
      ]
    },
    {
      "cell_type": "code",
      "source": [
        "# category of merchant and is_fraud(target variable)\n",
        "plt.figure(figsize=(10,8))\n",
        "# Plotting Density function graph of the merchant and is_fraud(target variable)\n",
        "kde = sns.kdeplot(dataset['city_pop'][dataset['is_fraud']==1],shade=True,color='r')\n",
        "kde = sns.kdeplot(dataset['city_pop'][dataset['is_fraud']==0],shade=True,color='b')\n",
        "kde.set_xlabel('City population of credit card holder')\n",
        "kde.set_ylabel('Density')\n",
        "kde.legend(['is_fraud','not_a_fraud'])"
      ],
      "metadata": {
        "colab": {
          "base_uri": "https://localhost:8080/",
          "height": 937
        },
        "id": "emlojP-xvmLv",
        "outputId": "298ddb0e-432e-4faa-b75d-fa0394ee834f"
      },
      "execution_count": 58,
      "outputs": [
        {
          "output_type": "stream",
          "name": "stderr",
          "text": [
            "<ipython-input-58-76d329042a27>:4: FutureWarning: \n",
            "\n",
            "`shade` is now deprecated in favor of `fill`; setting `fill=True`.\n",
            "This will become an error in seaborn v0.14.0; please update your code.\n",
            "\n",
            "  kde = sns.kdeplot(dataset['city_pop'][dataset['is_fraud']==1],shade=True,color='r')\n",
            "<ipython-input-58-76d329042a27>:5: FutureWarning: \n",
            "\n",
            "`shade` is now deprecated in favor of `fill`; setting `fill=True`.\n",
            "This will become an error in seaborn v0.14.0; please update your code.\n",
            "\n",
            "  kde = sns.kdeplot(dataset['city_pop'][dataset['is_fraud']==0],shade=True,color='b')\n"
          ]
        },
        {
          "output_type": "execute_result",
          "data": {
            "text/plain": [
              "<matplotlib.legend.Legend at 0x7a39aee2b160>"
            ]
          },
          "metadata": {},
          "execution_count": 58
        },
        {
          "output_type": "display_data",
          "data": {
            "text/plain": [
              "<Figure size 1000x800 with 1 Axes>"
            ],
            "image/png": "[encoded data removed]"
          },
          "metadata": {}
        }
      ]
    },
    {
      "cell_type": "code",
      "source": [
        "# from the above graph we may say that as the density of fraud transactions is less where the city population is less and as the city population increases fraud transactions are slightly increasing"
      ],
      "metadata": {
        "id": "1NOd4WK8yTU7"
      },
      "execution_count": 59,
      "outputs": []
    },
    {
      "cell_type": "code",
      "source": [
        "# Transforming the data\n",
        "from sklearn.preprocessing import LabelEncoder\n",
        "X = dataset.drop('is_fraud',axis=1).values\n",
        "y = dataset['is_fraud']\n",
        "Le = LabelEncoder()\n",
        "for i in range(len(X[0])):\n",
        "  X[:,i] = Le.fit_transform(X[:,i])\n",
        "print(X)\n",
        "print(y)"
      ],
      "metadata": {
        "colab": {
          "base_uri": "https://localhost:8080/"
        },
        "id": "sSo-FlZZw6Sy",
        "outputId": "74d1e560-8ea5-4b50-d652-a2570f5cd84e"
      },
      "execution_count": 60,
      "outputs": [
        {
          "output_type": "stream",
          "name": "stdout",
          "text": [
            "[[0 0 430 ... 0 205030 450669]\n",
            " [1 1 40 ... 1 657648 40788]\n",
            " [2 2 229 ... 2 548360 62114]\n",
            " ...\n",
            " [674291 663666 291 ... 663698 602251 387250]\n",
            " [674292 663667 928 ... 663699 348258 214723]\n",
            " [674293 663668 187 ... 663700 455697 570383]]\n",
            "0         0.0\n",
            "1         0.0\n",
            "2         0.0\n",
            "3         0.0\n",
            "4         0.0\n",
            "         ... \n",
            "674289    0.0\n",
            "674290    0.0\n",
            "674291    0.0\n",
            "674292    0.0\n",
            "674293    0.0\n",
            "Name: is_fraud, Length: 674294, dtype: float64\n"
          ]
        }
      ]
    },
    {
      "cell_type": "code",
      "source": [
        "# Using Logistic Regression"
      ],
      "metadata": {
        "id": "YGRfsDCd5miR"
      },
      "execution_count": 61,
      "outputs": []
    },
    {
      "cell_type": "code",
      "source": [
        "# Importing the necessary libraries for model fitting\n",
        "from sklearn.linear_model import LogisticRegression\n",
        "from sklearn.metrics import accuracy_score,confusion_matrix"
      ],
      "metadata": {
        "id": "9zPsrvA1opPH"
      },
      "execution_count": 62,
      "outputs": []
    },
    {
      "cell_type": "code",
      "source": [
        "# Fitting the model\n",
        "clf = LogisticRegression(random_state=42)\n",
        "# train_test_split is not required as train and test data are given in two different .csv files\n",
        "clf.fit(X,y)"
      ],
      "metadata": {
        "colab": {
          "base_uri": "https://localhost:8080/",
          "height": 214
        },
        "id": "q8qQtIwdop0K",
        "outputId": "4820c0d6-4cfa-4144-b4ea-e3af308ddd70"
      },
      "execution_count": 63,
      "outputs": [
        {
          "output_type": "stream",
          "name": "stderr",
          "text": [
            "/usr/local/lib/python3.10/dist-packages/sklearn/linear_model/_logistic.py:458: ConvergenceWarning: lbfgs failed to converge (status=1):\n",
            "STOP: TOTAL NO. of ITERATIONS REACHED LIMIT.\n",
            "\n",
            "Increase the number of iterations (max_iter) or scale the data as shown in:\n",
            "    https://scikit-learn.org/stable/modules/preprocessing.html\n",
            "Please also refer to the documentation for alternative solver options:\n",
            "    https://scikit-learn.org/stable/modules/linear_model.html#logistic-regression\n",
            "  n_iter_i = _check_optimize_result(\n"
          ]
        },
        {
          "output_type": "execute_result",
          "data": {
            "text/plain": [
              "LogisticRegression(random_state=42)"
            ],
            "text/html": [
              "<style>#sk-container-id-2 {color: black;background-color: white;}#sk-container-id-2 pre{padding: 0;}#sk-container-id-2 div.sk-toggleable {background-color: white;}#sk-container-id-2 label.sk-toggleable__label {cursor: pointer;display: block;width: 100%;margin-bottom: 0;padding: 0.3em;box-sizing: border-box;text-align: center;}#sk-container-id-2 label.sk-toggleable__label-arrow:before {content: \"▸\";float: left;margin-right: 0.25em;color: #696969;}#sk-container-id-2 label.sk-toggleable__label-arrow:hover:before {color: black;}#sk-container-id-2 div.sk-estimator:hover label.sk-toggleable__label-arrow:before {color: black;}#sk-container-id-2 div.sk-toggleable__content {max-height: 0;max-width: 0;overflow: hidden;text-align: left;background-color: #f0f8ff;}#sk-container-id-2 div.sk-toggleable__content pre {margin: 0.2em;color: black;border-radius: 0.25em;background-color: #f0f8ff;}#sk-container-id-2 input.sk-toggleable__control:checked~div.sk-toggleable__content {max-height: 200px;max-width: 100%;overflow: auto;}#sk-container-id-2 input.sk-toggleable__control:checked~label.sk-toggleable__label-arrow:before {content: \"▾\";}#sk-container-id-2 div.sk-estimator input.sk-toggleable__control:checked~label.sk-toggleable__label {background-color: #d4ebff;}#sk-container-id-2 div.sk-label input.sk-toggleable__control:checked~label.sk-toggleable__label {background-color: #d4ebff;}#sk-container-id-2 input.sk-hidden--visually {border: 0;clip: rect(1px 1px 1px 1px);clip: rect(1px, 1px, 1px, 1px);height: 1px;margin: -1px;overflow: hidden;padding: 0;position: absolute;width: 1px;}#sk-container-id-2 div.sk-estimator {font-family: monospace;background-color: #f0f8ff;border: 1px dotted black;border-radius: 0.25em;box-sizing: border-box;margin-bottom: 0.5em;}#sk-container-id-2 div.sk-estimator:hover {background-color: #d4ebff;}#sk-container-id-2 div.sk-parallel-item::after {content: \"\";width: 100%;border-bottom: 1px solid gray;flex-grow: 1;}#sk-container-id-2 div.sk-label:hover label.sk-toggleable__label {background-color: #d4ebff;}#sk-container-id-2 div.sk-serial::before {content: \"\";position: absolute;border-left: 1px solid gray;box-sizing: border-box;top: 0;bottom: 0;left: 50%;z-index: 0;}#sk-container-id-2 div.sk-serial {display: flex;flex-direction: column;align-items: center;background-color: white;padding-right: 0.2em;padding-left: 0.2em;position: relative;}#sk-container-id-2 div.sk-item {position: relative;z-index: 1;}#sk-container-id-2 div.sk-parallel {display: flex;align-items: stretch;justify-content: center;background-color: white;position: relative;}#sk-container-id-2 div.sk-item::before, #sk-container-id-2 div.sk-parallel-item::before {content: \"\";position: absolute;border-left: 1px solid gray;box-sizing: border-box;top: 0;bottom: 0;left: 50%;z-index: -1;}#sk-container-id-2 div.sk-parallel-item {display: flex;flex-direction: column;z-index: 1;position: relative;background-color: white;}#sk-container-id-2 div.sk-parallel-item:first-child::after {align-self: flex-end;width: 50%;}#sk-container-id-2 div.sk-parallel-item:last-child::after {align-self: flex-start;width: 50%;}#sk-container-id-2 div.sk-parallel-item:only-child::after {width: 0;}#sk-container-id-2 div.sk-dashed-wrapped {border: 1px dashed gray;margin: 0 0.4em 0.5em 0.4em;box-sizing: border-box;padding-bottom: 0.4em;background-color: white;}#sk-container-id-2 div.sk-label label {font-family: monospace;font-weight: bold;display: inline-block;line-height: 1.2em;}#sk-container-id-2 div.sk-label-container {text-align: center;}#sk-container-id-2 div.sk-container {/* jupyter's `normalize.less` sets `[hidden] { display: none; }` but bootstrap.min.css set `[hidden] { display: none !important; }` so we also need the `!important` here to be able to override the default hidden behavior on the sphinx rendered scikit-learn.org. See: https://github.com/scikit-learn/scikit-learn/issues/21755 */display: inline-block !important;position: relative;}#sk-container-id-2 div.sk-text-repr-fallback {display: none;}</style><div id=\"sk-container-id-2\" class=\"sk-top-container\"><div class=\"sk-text-repr-fallback\"><pre>LogisticRegression(random_state=42)</pre><b>In a Jupyter environment, please rerun this cell to show the HTML representation or trust the notebook. <br />On GitHub, the HTML representation is unable to render, please try loading this page with nbviewer.org.</b></div><div class=\"sk-container\" hidden><div class=\"sk-item\"><div class=\"sk-estimator sk-toggleable\"><input class=\"sk-toggleable__control sk-hidden--visually\" id=\"sk-estimator-id-2\" type=\"checkbox\" checked><label for=\"sk-estimator-id-2\" class=\"sk-toggleable__label sk-toggleable__label-arrow\">LogisticRegression</label><div class=\"sk-toggleable__content\"><pre>LogisticRegression(random_state=42)</pre></div></div></div></div></div>"
            ]
          },
          "metadata": {},
          "execution_count": 63
        }
      ]
    },
    {
      "cell_type": "code",
      "source": [
        "# Now Finding the accuracy for that let's load the test data\n",
        "test_dataset = pd.read_csv('fraudTest.csv')\n",
        "test_dataset.isnull().sum()"
      ],
      "metadata": {
        "colab": {
          "base_uri": "https://localhost:8080/"
        },
        "id": "ABmXH7q1pfLz",
        "outputId": "6478b3ab-0bed-4f96-929c-5cba0b9cf3f5"
      },
      "execution_count": 64,
      "outputs": [
        {
          "output_type": "execute_result",
          "data": {
            "text/plain": [
              "Unnamed: 0               0\n",
              "trans_date_trans_time    0\n",
              "cc_num                   0\n",
              "merchant                 0\n",
              "category                 0\n",
              "amt                      0\n",
              "first                    0\n",
              "last                     0\n",
              "gender                   0\n",
              "street                   0\n",
              "city                     0\n",
              "state                    0\n",
              "zip                      0\n",
              "lat                      0\n",
              "long                     1\n",
              "city_pop                 1\n",
              "job                      1\n",
              "dob                      1\n",
              "trans_num                1\n",
              "unix_time                1\n",
              "merch_lat                1\n",
              "merch_long               1\n",
              "is_fraud                 1\n",
              "dtype: int64"
            ]
          },
          "metadata": {},
          "execution_count": 64
        }
      ]
    },
    {
      "cell_type": "code",
      "source": [
        "# as you can see some columns have missing data so dropping those rows whose values are missing\n",
        "test_dataset = test_dataset.dropna()"
      ],
      "metadata": {
        "id": "50UorpWwwV58"
      },
      "execution_count": 65,
      "outputs": []
    },
    {
      "cell_type": "code",
      "source": [
        "X_test = test_dataset.drop('is_fraud',axis=1).values\n",
        "y_test = test_dataset['is_fraud']"
      ],
      "metadata": {
        "id": "ySXuPWH2wdZo"
      },
      "execution_count": 66,
      "outputs": []
    },
    {
      "cell_type": "code",
      "source": [
        "Le = LabelEncoder()\n",
        "for i in range(len(X[0])):\n",
        "  X_test[:,i] = Le.fit_transform(X_test[:,i])"
      ],
      "metadata": {
        "id": "WwgTLfgbwv_5"
      },
      "execution_count": 67,
      "outputs": []
    },
    {
      "cell_type": "code",
      "source": [
        "print(X_test)\n",
        "print(y_test)"
      ],
      "metadata": {
        "colab": {
          "base_uri": "https://localhost:8080/"
        },
        "id": "lyFhwyUXw7dc",
        "outputId": "4bae497a-1bb2-4ad0-e8a3-c42f55045080"
      },
      "execution_count": 68,
      "outputs": [
        {
          "output_type": "stream",
          "name": "stdout",
          "text": [
            "[[0 0 401 ... 0 39570 134766]\n",
            " [1 1 543 ... 1 95910 20225]\n",
            " [2 2 586 ... 2 115062 175573]\n",
            " ...\n",
            " [190167 186734 206 ... 186734 140937 171201]\n",
            " [190168 186735 109 ... 186735 121955 53720]\n",
            " [190169 186736 765 ... 186736 99216 159233]]\n",
            "0         0.0\n",
            "1         0.0\n",
            "2         0.0\n",
            "3         0.0\n",
            "4         0.0\n",
            "         ... \n",
            "190165    0.0\n",
            "190166    0.0\n",
            "190167    0.0\n",
            "190168    0.0\n",
            "190169    0.0\n",
            "Name: is_fraud, Length: 190170, dtype: float64\n"
          ]
        }
      ]
    },
    {
      "cell_type": "code",
      "source": [
        "# finding the predictions and acuracy\n",
        "# here accuracy is the test accracy\n",
        "predictions = clf.predict(X_test)\n",
        "print(predictions)\n",
        "print(accuracy_score(y_test,predictions))"
      ],
      "metadata": {
        "colab": {
          "base_uri": "https://localhost:8080/"
        },
        "id": "YieHp7WIxCqG",
        "outputId": "23d51715-3715-4dd2-af06-f2747a65d3e3"
      },
      "execution_count": 69,
      "outputs": [
        {
          "output_type": "stream",
          "name": "stdout",
          "text": [
            "[0. 0. 0. ... 0. 0. 0.]\n",
            "0.9857127832991534\n"
          ]
        }
      ]
    },
    {
      "cell_type": "code",
      "source": [
        "# let's find the train and test score or accuracy\n",
        "train_clf= clf.score(X,y)\n",
        "test_clf= clf.score(X_test,y_test)\n",
        "print(train_clf)\n",
        "print(test_clf)"
      ],
      "metadata": {
        "colab": {
          "base_uri": "https://localhost:8080/"
        },
        "id": "A9I0QI0JxNqv",
        "outputId": "c58c4b15-cd70-42a0-9de5-b3beecc221fe"
      },
      "execution_count": 70,
      "outputs": [
        {
          "output_type": "stream",
          "name": "stdout",
          "text": [
            "0.9939907518085583\n",
            "0.9857127832991534\n"
          ]
        }
      ]
    },
    {
      "cell_type": "code",
      "source": [
        "# confusion matrix\n",
        "print(confusion_matrix(y_test,predictions))"
      ],
      "metadata": {
        "colab": {
          "base_uri": "https://localhost:8080/"
        },
        "id": "bXiyZtNJ77Ty",
        "outputId": "aeed68cc-76da-4b41-d4c9-dd3893108352"
      },
      "execution_count": 71,
      "outputs": [
        {
          "output_type": "stream",
          "name": "stdout",
          "text": [
            "[[187233   2114]\n",
            " [   603    220]]\n"
          ]
        }
      ]
    },
    {
      "cell_type": "code",
      "source": [
        "# let's see the actual and predicted value\n",
        "print(\"actual value: \", y_test[10])\n",
        "print(\"predicted value: \",clf.predict(X_test)[10])"
      ],
      "metadata": {
        "colab": {
          "base_uri": "https://localhost:8080/"
        },
        "id": "8NTYhvMoxk8A",
        "outputId": "4975f66c-ccae-47fc-ec9a-095a17e31218"
      },
      "execution_count": 72,
      "outputs": [
        {
          "output_type": "stream",
          "name": "stdout",
          "text": [
            "actual value:  0.0\n",
            "predicted value:  0.0\n"
          ]
        }
      ]
    },
    {
      "cell_type": "code",
      "source": [
        "# It predicted correctly"
      ],
      "metadata": {
        "id": "yOW6d7xWyNS-"
      },
      "execution_count": 73,
      "outputs": []
    },
    {
      "cell_type": "code",
      "source": [
        "# That's the Credit Card fraud detection using Logistic regression"
      ],
      "metadata": {
        "id": "A0B7z34VyIKs"
      },
      "execution_count": 74,
      "outputs": []
    },
    {
      "cell_type": "code",
      "source": [
        "# Using Decision Trees"
      ],
      "metadata": {
        "id": "UKSoKmau5go0"
      },
      "execution_count": 75,
      "outputs": []
    },
    {
      "cell_type": "code",
      "source": [
        "# Importing the necessary libraries for model fitting\n",
        "from sklearn.tree import DecisionTreeClassifier\n",
        "dt = DecisionTreeClassifier(random_state=42)\n",
        "dt.fit(X,y)"
      ],
      "metadata": {
        "colab": {
          "base_uri": "https://localhost:8080/",
          "height": 75
        },
        "id": "oIigEWac5jtZ",
        "outputId": "db86da16-b547-4156-9b90-95fdad158225"
      },
      "execution_count": 76,
      "outputs": [
        {
          "output_type": "execute_result",
          "data": {
            "text/plain": [
              "DecisionTreeClassifier(random_state=42)"
            ],
            "text/html": [
              "<style>#sk-container-id-3 {color: black;background-color: white;}#sk-container-id-3 pre{padding: 0;}#sk-container-id-3 div.sk-toggleable {background-color: white;}#sk-container-id-3 label.sk-toggleable__label {cursor: pointer;display: block;width: 100%;margin-bottom: 0;padding: 0.3em;box-sizing: border-box;text-align: center;}#sk-container-id-3 label.sk-toggleable__label-arrow:before {content: \"▸\";float: left;margin-right: 0.25em;color: #696969;}#sk-container-id-3 label.sk-toggleable__label-arrow:hover:before {color: black;}#sk-container-id-3 div.sk-estimator:hover label.sk-toggleable__label-arrow:before {color: black;}#sk-container-id-3 div.sk-toggleable__content {max-height: 0;max-width: 0;overflow: hidden;text-align: left;background-color: #f0f8ff;}#sk-container-id-3 div.sk-toggleable__content pre {margin: 0.2em;color: black;border-radius: 0.25em;background-color: #f0f8ff;}#sk-container-id-3 input.sk-toggleable__control:checked~div.sk-toggleable__content {max-height: 200px;max-width: 100%;overflow: auto;}#sk-container-id-3 input.sk-toggleable__control:checked~label.sk-toggleable__label-arrow:before {content: \"▾\";}#sk-container-id-3 div.sk-estimator input.sk-toggleable__control:checked~label.sk-toggleable__label {background-color: #d4ebff;}#sk-container-id-3 div.sk-label input.sk-toggleable__control:checked~label.sk-toggleable__label {background-color: #d4ebff;}#sk-container-id-3 input.sk-hidden--visually {border: 0;clip: rect(1px 1px 1px 1px);clip: rect(1px, 1px, 1px, 1px);height: 1px;margin: -1px;overflow: hidden;padding: 0;position: absolute;width: 1px;}#sk-container-id-3 div.sk-estimator {font-family: monospace;background-color: #f0f8ff;border: 1px dotted black;border-radius: 0.25em;box-sizing: border-box;margin-bottom: 0.5em;}#sk-container-id-3 div.sk-estimator:hover {background-color: #d4ebff;}#sk-container-id-3 div.sk-parallel-item::after {content: \"\";width: 100%;border-bottom: 1px solid gray;flex-grow: 1;}#sk-container-id-3 div.sk-label:hover label.sk-toggleable__label {background-color: #d4ebff;}#sk-container-id-3 div.sk-serial::before {content: \"\";position: absolute;border-left: 1px solid gray;box-sizing: border-box;top: 0;bottom: 0;left: 50%;z-index: 0;}#sk-container-id-3 div.sk-serial {display: flex;flex-direction: column;align-items: center;background-color: white;padding-right: 0.2em;padding-left: 0.2em;position: relative;}#sk-container-id-3 div.sk-item {position: relative;z-index: 1;}#sk-container-id-3 div.sk-parallel {display: flex;align-items: stretch;justify-content: center;background-color: white;position: relative;}#sk-container-id-3 div.sk-item::before, #sk-container-id-3 div.sk-parallel-item::before {content: \"\";position: absolute;border-left: 1px solid gray;box-sizing: border-box;top: 0;bottom: 0;left: 50%;z-index: -1;}#sk-container-id-3 div.sk-parallel-item {display: flex;flex-direction: column;z-index: 1;position: relative;background-color: white;}#sk-container-id-3 div.sk-parallel-item:first-child::after {align-self: flex-end;width: 50%;}#sk-container-id-3 div.sk-parallel-item:last-child::after {align-self: flex-start;width: 50%;}#sk-container-id-3 div.sk-parallel-item:only-child::after {width: 0;}#sk-container-id-3 div.sk-dashed-wrapped {border: 1px dashed gray;margin: 0 0.4em 0.5em 0.4em;box-sizing: border-box;padding-bottom: 0.4em;background-color: white;}#sk-container-id-3 div.sk-label label {font-family: monospace;font-weight: bold;display: inline-block;line-height: 1.2em;}#sk-container-id-3 div.sk-label-container {text-align: center;}#sk-container-id-3 div.sk-container {/* jupyter's `normalize.less` sets `[hidden] { display: none; }` but bootstrap.min.css set `[hidden] { display: none !important; }` so we also need the `!important` here to be able to override the default hidden behavior on the sphinx rendered scikit-learn.org. See: https://github.com/scikit-learn/scikit-learn/issues/21755 */display: inline-block !important;position: relative;}#sk-container-id-3 div.sk-text-repr-fallback {display: none;}</style><div id=\"sk-container-id-3\" class=\"sk-top-container\"><div class=\"sk-text-repr-fallback\"><pre>DecisionTreeClassifier(random_state=42)</pre><b>In a Jupyter environment, please rerun this cell to show the HTML representation or trust the notebook. <br />On GitHub, the HTML representation is unable to render, please try loading this page with nbviewer.org.</b></div><div class=\"sk-container\" hidden><div class=\"sk-item\"><div class=\"sk-estimator sk-toggleable\"><input class=\"sk-toggleable__control sk-hidden--visually\" id=\"sk-estimator-id-3\" type=\"checkbox\" checked><label for=\"sk-estimator-id-3\" class=\"sk-toggleable__label sk-toggleable__label-arrow\">DecisionTreeClassifier</label><div class=\"sk-toggleable__content\"><pre>DecisionTreeClassifier(random_state=42)</pre></div></div></div></div></div>"
            ]
          },
          "metadata": {},
          "execution_count": 76
        }
      ]
    },
    {
      "cell_type": "code",
      "source": [
        "# finding the predictions and acuracy\n",
        "# here accuracy is the test accracy\n",
        "predictions = dt.predict(X_test)\n",
        "print(predictions)\n",
        "print(accuracy_score(y_test,predictions))"
      ],
      "metadata": {
        "colab": {
          "base_uri": "https://localhost:8080/"
        },
        "id": "zfh2qh4l8ER3",
        "outputId": "6e8eaa0f-9662-4b50-d35e-2204260bfe6f"
      },
      "execution_count": 77,
      "outputs": [
        {
          "output_type": "stream",
          "name": "stdout",
          "text": [
            "[0. 0. 0. ... 0. 0. 0.]\n",
            "0.9926486827575327\n"
          ]
        }
      ]
    },
    {
      "cell_type": "code",
      "source": [
        "print(\"Training Accuracy:\",dt.score(X,y))\n",
        "print(\"Test Accuracy:\",dt.score(X_test,y_test))"
      ],
      "metadata": {
        "colab": {
          "base_uri": "https://localhost:8080/"
        },
        "id": "6L_WFmEI8WLR",
        "outputId": "8c38d1d3-259f-4dd1-9752-48c53b90020a"
      },
      "execution_count": 78,
      "outputs": [
        {
          "output_type": "stream",
          "name": "stdout",
          "text": [
            "Training Accuracy: 1.0\n",
            "Test Accuracy: 0.9926486827575327\n"
          ]
        }
      ]
    },
    {
      "cell_type": "code",
      "source": [
        "# let's see the actual and predicted value\n",
        "print(\"actual value: \", y_test[10])\n",
        "print(\"predicted value: \",clf.predict(X_test)[10])"
      ],
      "metadata": {
        "colab": {
          "base_uri": "https://localhost:8080/"
        },
        "id": "TRnETYhY8dvD",
        "outputId": "6ca8942b-4dd3-4732-ccf8-9e92b554991b"
      },
      "execution_count": 79,
      "outputs": [
        {
          "output_type": "stream",
          "name": "stdout",
          "text": [
            "actual value:  0.0\n",
            "predicted value:  0.0\n"
          ]
        }
      ]
    },
    {
      "cell_type": "code",
      "source": [
        "#####################"
      ],
      "metadata": {
        "id": "NEI18cc68gX8"
      },
      "execution_count": 80,
      "outputs": []
    },
    {
      "cell_type": "code",
      "source": [
        "# now we change the depth of decision tree to see what are the changes\n",
        "dt = DecisionTreeClassifier(random_state=42,max_depth=5)\n",
        "dt.fit(X,y)\n",
        "print(\"Training Accuracy:\",dt.score(X,y))\n",
        "print(\"Test Accuracy:\",dt.score(X_test,y_test))"
      ],
      "metadata": {
        "colab": {
          "base_uri": "https://localhost:8080/"
        },
        "id": "F9ejwin66Dmw",
        "outputId": "8de803e4-822e-41ef-cc8a-6b865f016a42"
      },
      "execution_count": 81,
      "outputs": [
        {
          "output_type": "stream",
          "name": "stdout",
          "text": [
            "Training Accuracy: 0.9965504661171537\n",
            "Test Accuracy: 0.9956722932113372\n"
          ]
        }
      ]
    },
    {
      "cell_type": "code",
      "source": [
        "# If we didn't set any depth then it takes every attribute and split into branches which is kind of overfit to the train data\n",
        "# as you can see by fixing the depth training accuracy is reduced where as test accuracy is increased"
      ],
      "metadata": {
        "id": "lpYu2XLy6VFr"
      },
      "execution_count": 82,
      "outputs": []
    },
    {
      "cell_type": "code",
      "source": [
        "# That's the Credit Card fraud detection using Decision Trees"
      ],
      "metadata": {
        "id": "dpHeE6hi65DK"
      },
      "execution_count": 83,
      "outputs": []
    },
    {
      "cell_type": "code",
      "source": [],
      "metadata": {
        "id": "wq6w3RPE69xp"
      },
      "execution_count": 83,
      "outputs": []
    }
  ]
}